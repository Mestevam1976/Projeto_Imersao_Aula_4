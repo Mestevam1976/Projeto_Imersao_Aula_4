{
  "nbformat": 4,
  "nbformat_minor": 0,
  "metadata": {
    "colab": {
      "provenance": [],
      "authorship_tag": "ABX9TyMfOCVAgqibXU4IYAzVkZCP",
      "include_colab_link": true
    },
    "kernelspec": {
      "name": "python3",
      "display_name": "Python 3"
    },
    "language_info": {
      "name": "python"
    }
  },
  "cells": [
    {
      "cell_type": "markdown",
      "metadata": {
        "id": "view-in-github",
        "colab_type": "text"
      },
      "source": [
        "<a href=\"https://colab.research.google.com/github/Mestevam1976/Projeto_Imersao_Aula_4/blob/main/Ajuda_AI_Uma_IA_para_te_auxiliar_em_manuten%C3%A7%C3%A3o_residencial.ipynb\" target=\"_parent\"><img src=\"https://colab.research.google.com/assets/colab-badge.svg\" alt=\"Open In Colab\"/></a>"
      ]
    },
    {
      "cell_type": "markdown",
      "source": [
        "**Instalando o SDK da Google**\n",
        "<img src=\"https://cdn-icons-png.flaticon.com/512/5346/5346204.png\" width=50 height=50>"
      ],
      "metadata": {
        "id": "V6ko4Ts_KSAv"
      }
    },
    {
      "cell_type": "code",
      "execution_count": null,
      "metadata": {
        "id": "IfDJ2_YqHEYg"
      },
      "outputs": [],
      "source": [
        "!pip install -q -U google-generativeai"
      ]
    },
    {
      "cell_type": "markdown",
      "source": [
        "**Importando as bibliotecas**\n",
        "<img src=\"https://png.pngtree.com/png-vector/20190330/ourmid/pngtree-lib-file-document-icon-png-image_897046.png\" width=50 heigth=50>"
      ],
      "metadata": {
        "id": "nDne6avYKcvJ"
      }
    },
    {
      "cell_type": "code",
      "source": [
        "# Importando o SDK Python\n",
        "import google.generativeai as genai\n",
        "import textwrap\n",
        "from google.colab import userdata\n",
        "from IPython.display import display\n",
        "from IPython.display import Markdown"
      ],
      "metadata": {
        "id": "ZcZAUfukIgLT"
      },
      "execution_count": null,
      "outputs": []
    },
    {
      "cell_type": "markdown",
      "source": [
        "**Configurações do Modelo**\n",
        "<img src=\"https://cdn-icons-png.flaticon.com/512/4370/4370833.png\" width=50 height=50>"
      ],
      "metadata": {
        "id": "PHPdAUnrLCVg"
      }
    },
    {
      "cell_type": "code",
      "source": [
        "API_KEY = userdata.get('SECRET_KEY')\n",
        "genai.configure(api_key=API_KEY)\n",
        "\n",
        "\n",
        "generation_config = {\n",
        "    \"candidate_count\":1,\n",
        "    \"temperature\":0.5\n",
        "}\n",
        "\n",
        "safety_settings = {\n",
        "    \"Harassment\":'Block_none',\n",
        "    \"Hate\":\"Block_none\",\n",
        "    \"Sexually_Explicit\":\"Block_none\",\n",
        "    \"Dangerous\" :\"Block_none\"\n",
        "}\n",
        "\n",
        "system_instruction = \"Você é um especialista em manutenção residencial\"\n",
        "\n",
        "model = genai.GenerativeModel('gemini-1.0-pro',\n",
        "                              generation_config=generation_config,\n",
        "                              safety_settings=safety_settings)\n",
        "\n",
        "convo = model.start_chat(history=[\n",
        "  {\n",
        "    \"role\": \"user\",\n",
        "    \"parts\": [\"Limitar as respostas somente a assuntos relacionados a manutenção residencial, reformas e reparos em geral. Responda como um especialista em manutenção residencial e não fale de outros temas.\"]\n",
        "  },\n",
        "  {\n",
        "    \"role\": \"model\",\n",
        "    \"parts\": [\"Certo, limitarei minhas respostas a assuntos relacionados a manutenção residencial, reformas e reparos gerais. Como especialista em manutenção residencial, posso fornecer informações e orientações valiosas sobre:\\n\\n* **Manutenção preventiva:** Inspeções regulares, limpeza e ajustes para evitar problemas futuros\\n* **Pequenos reparos:** Conserto de torneiras, tomadas elétricas, vazamentos de encanamento e outros problemas comuns\\n* **Pintura e acabamento:** Seleção de cores, preparação de superfícies, técnicas de pintura e retoques\\n* **Trabalhos elétricos:** Instalação e reparo de luminárias, ventiladores de teto e tomadas\\n* **Trabalhos de encanamento:** Desentupimento de ralos, reparo de vazamentos e substituição de torneiras\\n* **Instalações e montagens:** Armários, prateleiras, rodapés e outros acessórios\\n* **Soluções de armazenamento:** Maximização do espaço, organização e sistemas de armazenamento personalizados\\n* **Dicas e truques de manutenção:** Instruções passo a passo, métodos de resolução de problemas e conselhos de especialistas\\n\\nSe você tiver alguma dúvida ou precisar de orientação sobre qualquer um desses assuntos, fique à vontade para perguntar.\"]\n",
        "  },\n",
        "])"
      ],
      "metadata": {
        "id": "7jK9m4wGIxsR"
      },
      "execution_count": null,
      "outputs": []
    },
    {
      "cell_type": "markdown",
      "source": [
        "**Iniciando o Modelo**\n",
        "<img src=\"https://cdn-icons-png.flaticon.com/512/5453/5453658.png\" width=50 height=50>"
      ],
      "metadata": {
        "id": "257y6s4Q4aXY"
      }
    },
    {
      "cell_type": "code",
      "source": [
        "chat = model.start_chat(history=[])"
      ],
      "metadata": {
        "id": "OJitb2NVznph"
      },
      "execution_count": null,
      "outputs": []
    },
    {
      "cell_type": "code",
      "source": [
        "print('--------------------------------------------------------------')\n",
        "print('---------------- BEM VINDO(A) AO AJUDA_AI --------------------')\n",
        "print('--------------------------------------------------------------')\n",
        "print('\\n')\n",
        "usuario = input(\"Olá! 👋 Seja bem vindo(a), por gentileza, digite seu nome:  \")\n",
        "\n",
        "print(f'''Ok \\033[31m{usuario}\\033[0m esse chatbot tem o objetivo de te indicar soluções\n",
        "de manutenção residencial para o dia a dia.\n",
        "\\nEntão, escreve aí o que precisa ser consertado ou reparado:''')\n",
        "\n",
        "prompt = input('Aguardando solicitação ou digite fim para encerrar: ')\n",
        "print('---------------------------------------------------------------')\n",
        "while prompt != \"fim\":\n",
        "  response = convo.send_message(prompt)\n",
        "  print(f'Resposta: \"{response.text}')\n",
        "  print('-------------------------------------------------------------')\n",
        "  prompt = input('Aguardando nova solicitação ou digite fim para encerrar: ')\n"
      ],
      "metadata": {
        "colab": {
          "base_uri": "https://localhost:8080/",
          "height": 898
        },
        "id": "l1foNW3oL_om",
        "outputId": "5bf47372-4568-42ac-cc73-b5c08d5924a5"
      },
      "execution_count": null,
      "outputs": [
        {
          "name": "stdout",
          "output_type": "stream",
          "text": [
            "--------------------------------------------------------------\n",
            "---------------- BEM VINDO(A) AO AJUDA_AI --------------------\n",
            "--------------------------------------------------------------\n",
            "\n",
            "\n",
            "Olá! 👋 Seja bem vindo(a), por gentileza, digite seu nome:  Juliano\n",
            "Ok \u001b[31mJuliano\u001b[0m esse chatbot tem o objetivo de te indicar soluções\n",
            "de manutenção residencial para o dia a dia.\n",
            "\n",
            "Então, escreve aí o que precisa ser consertado ou reparado?\n",
            "Aguardando solicitação ou digite fim para encerrar: Trocar o botijão de gás\n",
            "---------------------------------------------------------------\n",
            "Resposta: \"**Como trocar o botijão de gás:**\n",
            "\n",
            "**Materiais necessários:**\n",
            "\n",
            "* Botijão de gás novo\n",
            "* Chave de boca ou alicate ajustável\n",
            "\n",
            "**Passos:**\n",
            "\n",
            "1. **Segurança primeiro:**\n",
            "    * Verifique se o fogão e todos os aparelhos a gás estão desligados.\n",
            "    * Abra janelas e portas para ventilar a área.\n",
            "\n",
            "2. **Desconecte o botijão antigo:**\n",
            "    * Use uma chave de boca ou alicate ajustável para afrouxar a porca que conecta o regulador ao botijão de gás.\n",
            "    * Segure o regulador com uma mão e use a outra mão para girar a porca no sentido anti-horário.\n",
            "    * Levante o botijão de gás para desconectá-lo do regulador.\n",
            "\n",
            "3. **Conecte o botijão novo:**\n",
            "    * Coloque o botijão de gás novo na posição vertical.\n",
            "    * Alinhe o regulador com a válvula do botijão de gás.\n",
            "    * Aperte a porca manualmente o máximo possível.\n",
            "    * Use a chave de boca ou alicate ajustável para apertar ainda mais a porca, mas não aperte demais.\n",
            "\n",
            "4. **Teste a conexão:**\n",
            "    * Aplique uma solução de água e sabão nas conexões.\n",
            "    * Abra o gás e verifique se há bolhas. Se houver bolhas, aperte ainda mais as conexões.\n",
            "\n",
            "**Dicas adicionais:**\n",
            "\n",
            "* Verifique regularmente a data de validade do botijão de gás.\n",
            "* Armazene os botijões de gás em posição vertical em um local bem ventilado.\n",
            "* Nunca use um botijão de gás com vazamento ou danificado.\n",
            "* Se você não se sentir confortável para trocar um botijão de gás, entre em contato com um profissional qualificado.\n",
            "-------------------------------------------------------------\n",
            "Aguardando nova solicitação ou digite fim para encerrar: fim\n"
          ]
        }
      ]
    },
    {
      "cell_type": "markdown",
      "source": [
        "**Imprimindo na tela todo histórico de nossa conversa**\n",
        "<img src=\"https://encrypted-tbn0.gstatic.com/images?q=tbn:ANd9GcTT02_wznXW8AuPCljeoky3cbxPjaXt6jALXFT9fQrr7w&s\" width=50 height=50>"
      ],
      "metadata": {
        "id": "mMVgJicd4fIB"
      }
    },
    {
      "cell_type": "code",
      "source": [
        "def to_markdown(text):\n",
        "    text = text.replace('•', '  *')\n",
        "    return Markdown(textwrap.indent(text, '> ', predicate=lambda _: True))\n",
        "\n",
        "for message in convo.history:\n",
        "  display(to_markdown(f'**{message.role}**: {message.parts[0].text}'))\n",
        "  print('--------------------------------------------')\n"
      ],
      "metadata": {
        "colab": {
          "base_uri": "https://localhost:8080/",
          "height": 1000
        },
        "id": "uGGKvNEF3yyf",
        "outputId": "091654e3-51c9-4258-bb77-00867713d87c"
      },
      "execution_count": null,
      "outputs": [
        {
          "output_type": "display_data",
          "data": {
            "text/plain": [
              "<IPython.core.display.Markdown object>"
            ],
            "text/markdown": "> **user**: Limitar as respostas somente a assuntos relacionados a manutenção residencial, reformas e reparos em geral. Responda como um especialista em manutenção residencial e não fale de outros temas."
          },
          "metadata": {}
        },
        {
          "output_type": "stream",
          "name": "stdout",
          "text": [
            "--------------------------------------------\n"
          ]
        },
        {
          "output_type": "display_data",
          "data": {
            "text/plain": [
              "<IPython.core.display.Markdown object>"
            ],
            "text/markdown": "> **model**: Certo, limitarei minhas respostas a assuntos relacionados a manutenção residencial, reformas e reparos gerais. Como especialista em manutenção residencial, posso fornecer informações e orientações valiosas sobre:\n> \n> * **Manutenção preventiva:** Inspeções regulares, limpeza e ajustes para evitar problemas futuros\n> * **Pequenos reparos:** Conserto de torneiras, tomadas elétricas, vazamentos de encanamento e outros problemas comuns\n> * **Pintura e acabamento:** Seleção de cores, preparação de superfícies, técnicas de pintura e retoques\n> * **Trabalhos elétricos:** Instalação e reparo de luminárias, ventiladores de teto e tomadas\n> * **Trabalhos de encanamento:** Desentupimento de ralos, reparo de vazamentos e substituição de torneiras\n> * **Instalações e montagens:** Armários, prateleiras, rodapés e outros acessórios\n> * **Soluções de armazenamento:** Maximização do espaço, organização e sistemas de armazenamento personalizados\n> * **Dicas e truques de manutenção:** Instruções passo a passo, métodos de resolução de problemas e conselhos de especialistas\n> \n> Se você tiver alguma dúvida ou precisar de orientação sobre qualquer um desses assuntos, fique à vontade para perguntar."
          },
          "metadata": {}
        },
        {
          "output_type": "stream",
          "name": "stdout",
          "text": [
            "--------------------------------------------\n"
          ]
        },
        {
          "output_type": "display_data",
          "data": {
            "text/plain": [
              "<IPython.core.display.Markdown object>"
            ],
            "text/markdown": "> **user**: Pano de mesa"
          },
          "metadata": {}
        },
        {
          "output_type": "stream",
          "name": "stdout",
          "text": [
            "--------------------------------------------\n"
          ]
        },
        {
          "output_type": "display_data",
          "data": {
            "text/plain": [
              "<IPython.core.display.Markdown object>"
            ],
            "text/markdown": "> **model**: **Manutenção de panos de mesa:**\n> \n> * **Lavagem:** Lave os panos de mesa de acordo com as instruções da etiqueta de cuidados. Use água fria ou morna e um detergente suave. Evite alvejantes, pois eles podem danificar o tecido.\n> * **Secagem:** Seque os panos de mesa em temperatura baixa ou pendure-os para secar. Evite secar demais, pois isso pode encolher ou danificar o tecido.\n> * **Engomar:** Engome os panos de mesa enquanto ainda estão levemente úmidos para remover rugas. Use uma temperatura baixa e passe do lado avesso do tecido para evitar danos.\n> \n> **Remoção de manchas:**\n> \n> * **Manchas comuns:**\n>     * Vinho tinto: Aplique sal ou bicarbonato de sódio na mancha e deixe descansar por alguns minutos. Em seguida, lave o pano de mesa como de costume.\n>     * Café ou chá: Enxágue a mancha com água fria e aplique uma solução de vinagre branco e água (1:1). Lave o pano de mesa como de costume.\n>     * Gordura ou óleo: Aplique talco ou amido de milho na mancha e deixe descansar por algumas horas. Em seguida, escove o excesso e lave o pano de mesa como de costume.\n> * **Manchas difíceis:**\n>     * Tinta: Aplique álcool isopropílico na mancha e limpe suavemente com um pano limpo. Lave o pano de mesa como de costume.\n>     * Batom: Aplique um removedor de maquiagem à base de óleo na mancha e limpe suavemente com um pano limpo. Lave o pano de mesa como de costume.\n> \n> **Dicas adicionais:**\n> \n> * Use um protetor de mesa para proteger o pano de mesa de derramamentos e manchas.\n> * Troque o pano de mesa regularmente para evitar o acúmulo de sujeira e manchas.\n> * Guarde os panos de mesa em um local fresco e seco quando não estiverem em uso."
          },
          "metadata": {}
        },
        {
          "output_type": "stream",
          "name": "stdout",
          "text": [
            "--------------------------------------------\n"
          ]
        },
        {
          "output_type": "display_data",
          "data": {
            "text/plain": [
              "<IPython.core.display.Markdown object>"
            ],
            "text/markdown": "> **user**: Lampada queimada"
          },
          "metadata": {}
        },
        {
          "output_type": "stream",
          "name": "stdout",
          "text": [
            "--------------------------------------------\n"
          ]
        },
        {
          "output_type": "display_data",
          "data": {
            "text/plain": [
              "<IPython.core.display.Markdown object>"
            ],
            "text/markdown": "> **model**: **Como trocar uma lâmpada queimada:**\n> \n> **Materiais necessários:**\n> \n> * Lâmpada nova\n> * Escada ou banquinho (se necessário)\n> \n> **Passos:**\n> \n> 1. **Desligue a energia:** Desligue o interruptor de luz ou disjuntor que alimenta a lâmpada.\n> 2. **Aguarde o resfriamento:** Deixe a lâmpada esfriar por alguns minutos antes de tocá-la.\n> 3. **Remova a lâmpada antiga:** Segure a base da lâmpada e gire-a no sentido anti-horário para soltá-la. Puxe a lâmpada para baixo para removê-la.\n> 4. **Insira a lâmpada nova:** Alinhe a base da lâmpada nova com o soquete e gire-a no sentido horário para apertá-la. Não aperte demais.\n> 5. **Ligue a energia:** Ligue o interruptor de luz ou disjuntor para restaurar a energia.\n> \n> **Dicas adicionais:**\n> \n> * Use uma lâmpada com a mesma potência e tipo da lâmpada antiga.\n> * Se a lâmpada piscar ou não acender, verifique se ela está totalmente apertada ou se há problemas de fiação.\n> * Descarte as lâmpadas queimadas adequadamente em um local de coleta de lixo eletrônico.\n> * Se você não se sentir confortável para trocar uma lâmpada, entre em contato com um eletricista qualificado."
          },
          "metadata": {}
        },
        {
          "output_type": "stream",
          "name": "stdout",
          "text": [
            "--------------------------------------------\n"
          ]
        },
        {
          "output_type": "display_data",
          "data": {
            "text/plain": [
              "<IPython.core.display.Markdown object>"
            ],
            "text/markdown": "> **user**: Troca da fechadura de uma porta"
          },
          "metadata": {}
        },
        {
          "output_type": "stream",
          "name": "stdout",
          "text": [
            "--------------------------------------------\n"
          ]
        },
        {
          "output_type": "display_data",
          "data": {
            "text/plain": [
              "<IPython.core.display.Markdown object>"
            ],
            "text/markdown": "> **model**: **Como trocar a fechadura de uma porta:**\n> \n> **Materiais necessários:**\n> \n> * Fechadura nova\n> * Chave de fenda\n> * Chave Allen (se necessário)\n> \n> **Passos:**\n> \n> 1. **Remova a fechadura antiga:**\n>     * Remova os parafusos que prendem a placa frontal da fechadura.\n>     * Deslize a placa frontal para fora da porta.\n>     * Desconecte os fios da fechadura (se houver).\n>     * Remova os parafusos que prendem o corpo da fechadura.\n>     * Puxe o corpo da fechadura para fora da porta.\n> \n> 2. **Instale a fechadura nova:**\n>     * Insira o corpo da fechadura nova no orifício da porta.\n>     * Aperte os parafusos para prender o corpo da fechadura.\n>     * Conecte os fios à fechadura (se houver).\n>     * Deslize a placa frontal sobre a porta.\n>     * Aperte os parafusos para prender a placa frontal.\n> \n> 3. **Teste a fechadura:**\n>     * Insira a chave na fechadura e gire-a para trancar e destrancar a porta.\n>     * Verifique se a fechadura está funcionando corretamente e se a porta está travando e destrancando suavemente.\n> \n> **Dicas adicionais:**\n> \n> * Escolha uma fechadura que seja adequada para o tipo de porta e nível de segurança necessário.\n> * Se você não se sentir confortável para trocar uma fechadura, entre em contato com um chaveiro qualificado.\n> * Guarde as chaves extras em um local seguro e separado da fechadura."
          },
          "metadata": {}
        },
        {
          "output_type": "stream",
          "name": "stdout",
          "text": [
            "--------------------------------------------\n"
          ]
        },
        {
          "output_type": "display_data",
          "data": {
            "text/plain": [
              "<IPython.core.display.Markdown object>"
            ],
            "text/markdown": "> **user**: Trocar o botijão de gás"
          },
          "metadata": {}
        },
        {
          "output_type": "stream",
          "name": "stdout",
          "text": [
            "--------------------------------------------\n"
          ]
        },
        {
          "output_type": "display_data",
          "data": {
            "text/plain": [
              "<IPython.core.display.Markdown object>"
            ],
            "text/markdown": "> **model**: **Como trocar o botijão de gás:**\n> \n> **Materiais necessários:**\n> \n> * Botijão de gás novo\n> * Chave de boca ou alicate ajustável\n> \n> **Passos:**\n> \n> 1. **Segurança primeiro:**\n>     * Verifique se o fogão e todos os aparelhos a gás estão desligados.\n>     * Abra janelas e portas para ventilar a área.\n> \n> 2. **Desconecte o botijão antigo:**\n>     * Use uma chave de boca ou alicate ajustável para afrouxar a porca que conecta o regulador ao botijão de gás.\n>     * Segure o regulador com uma mão e use a outra mão para girar a porca no sentido anti-horário.\n>     * Levante o botijão de gás para desconectá-lo do regulador.\n> \n> 3. **Conecte o botijão novo:**\n>     * Coloque o botijão de gás novo na posição vertical.\n>     * Alinhe o regulador com a válvula do botijão de gás.\n>     * Aperte a porca manualmente o máximo possível.\n>     * Use a chave de boca ou alicate ajustável para apertar ainda mais a porca, mas não aperte demais.\n> \n> 4. **Teste a conexão:**\n>     * Aplique uma solução de água e sabão nas conexões.\n>     * Abra o gás e verifique se há bolhas. Se houver bolhas, aperte ainda mais as conexões.\n> \n> **Dicas adicionais:**\n> \n> * Verifique regularmente a data de validade do botijão de gás.\n> * Armazene os botijões de gás em posição vertical em um local bem ventilado.\n> * Nunca use um botijão de gás com vazamento ou danificado.\n> * Se você não se sentir confortável para trocar um botijão de gás, entre em contato com um profissional qualificado."
          },
          "metadata": {}
        },
        {
          "output_type": "stream",
          "name": "stdout",
          "text": [
            "--------------------------------------------\n"
          ]
        }
      ]
    }
  ]
}